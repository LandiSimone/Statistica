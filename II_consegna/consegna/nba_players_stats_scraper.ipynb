{
 "cells": [
  {
   "cell_type": "code",
   "execution_count": 2,
   "id": "6e3f7140",
   "metadata": {
    "pycharm": {
     "name": "#%%\n"
    }
   },
   "outputs": [
    {
     "name": "stdout",
     "output_type": "stream",
     "text": [
      "Requirement already satisfied: nba_api in c:\\users\\simon\\anaconda3\\lib\\site-packages (1.1.13)\n",
      "Requirement already satisfied: requests in c:\\users\\simon\\anaconda3\\lib\\site-packages (from nba_api) (2.26.0)\n",
      "Note: you may need to restart the kernel to use updated packages.\n",
      "Requirement already satisfied: numpy in c:\\users\\simon\\anaconda3\\lib\\site-packages (from nba_api) (1.20.3)\n",
      "Requirement already satisfied: idna<4,>=2.5 in c:\\users\\simon\\anaconda3\\lib\\site-packages (from requests->nba_api) (3.2)\n",
      "Requirement already satisfied: certifi>=2017.4.17 in c:\\users\\simon\\anaconda3\\lib\\site-packages (from requests->nba_api) (2021.10.8)\n",
      "Requirement already satisfied: charset-normalizer~=2.0.0 in c:\\users\\simon\\anaconda3\\lib\\site-packages (from requests->nba_api) (2.0.4)\n",
      "Requirement already satisfied: urllib3<1.27,>=1.21.1 in c:\\users\\simon\\anaconda3\\lib\\site-packages (from requests->nba_api) (1.26.7)\n"
     ]
    }
   ],
   "source": [
    "pip install nba_api"
   ]
  },
  {
   "cell_type": "code",
   "execution_count": 3,
   "id": "5153060f",
   "metadata": {
    "pycharm": {
     "name": "#%%\n"
    }
   },
   "outputs": [],
   "source": [
    "import pandas as pd\n",
    "from nba_api.stats.endpoints import leaguedashplayerstats\n",
    "from collections import defaultdict\n",
    "import time"
   ]
  },
  {
   "cell_type": "code",
   "execution_count": 4,
   "id": "fc04889a",
   "metadata": {
    "pycharm": {
     "name": "#%%\n"
    }
   },
   "outputs": [],
   "source": [
    "customHeaders = {\n",
    "    'Host': 'stats.nba.com',\n",
    "    'Connection': 'keep-alive',\n",
    "    'Cache-Control': 'max-age=0',\n",
    "    'Upgrade-Insecure-Requests': '1',\n",
    "    'User-Agent': 'Mozilla/5.0 (Windows NT 6.1; Win64; x64) AppleWebKit/537.36 (KHTML, like Gecko) Chrome/61.0.3163.100 Safari/537.36',\n",
    "    'Accept': 'text/html,application/xhtml+xml,application/xml;q=0.9,image/webp,image/apng,*/*;q=0.8,application/signed-exchange;v=b3',\n",
    "    'Accept-Encoding': 'gzip, deflate, br',\n",
    "    'Accept-Language': 'en-US,en;q=0.9',\n",
    "    'Referer': 'https://stats.nba.com/',\n",
    "    'x-nba-stats-origin': 'stats',\n",
    "    'x-nba-stats-token': 'true',\n",
    "}"
   ]
  },
  {
   "cell_type": "code",
   "execution_count": 5,
   "id": "cf5132a8",
   "metadata": {
    "pycharm": {
     "name": "#%%\n"
    }
   },
   "outputs": [],
   "source": [
    "# Create a list of the seasons to analyze\n",
    "seasons = ['2021-22']\n",
    "seasons2 = ['2022-23']"
   ]
  },
  {
   "cell_type": "code",
   "execution_count": 6,
   "id": "685a284f",
   "metadata": {
    "pycharm": {
     "name": "#%%\n"
    }
   },
   "outputs": [],
   "source": [
    "# Scrapes stats.nba.com to get season average statistics using nba-api,\n",
    "# creates Pandas dataframe from statistics\n",
    "def get_data(season_list):\n",
    "    time.sleep(1)\n",
    "    stats = pd.DataFrame()\n",
    "\n",
    "    for season in season_list:\n",
    "        # Get Players Traditional Info\n",
    "        allPlayersTraditionalInfo = leaguedashplayerstats.LeagueDashPlayerStats(per_mode_detailed='PerGame',\n",
    "                                                                          season=season,\n",
    "                                                                          measure_type_detailed_defense='Base',\n",
    "                                                                          headers=customHeaders,\n",
    "                                                                          timeout=120)\n",
    "        allPlayersTraditionalDict = allPlayersTraditionalInfo.get_normalized_dict()\n",
    "        allPlayersTraditionalList = allPlayersTraditionalDict['LeagueDashPlayerStats']\n",
    "\n",
    "        # Get Players Advanced Info\n",
    "        allPlayersAdvancedInfo = leaguedashplayerstats.LeagueDashPlayerStats(per_mode_detailed='PerGame',\n",
    "                                                                       season=season,\n",
    "                                                                       measure_type_detailed_defense='Advanced',\n",
    "                                                                       headers=customHeaders,\n",
    "                                                                       timeout=120)\n",
    "        allPlayersAdvancedDict = allPlayersAdvancedInfo.get_normalized_dict()\n",
    "        allPlayersAdvancedList = allPlayersAdvancedDict['LeagueDashPlayerStats']\n",
    "\n",
    "        # Merge the two lists of dicts (Traditional Info and Advanced Info)\n",
    "        d = defaultdict(dict)\n",
    "        for l in (allPlayersTraditionalList, allPlayersAdvancedList):\n",
    "            for elem in l:\n",
    "                d[elem['PLAYER_ID']].update(elem)\n",
    "        result = d.values()\n",
    "\n",
    "        # Add the merged dict to the DataFrame\n",
    "        df = pd.DataFrame(result)\n",
    "\n",
    "        # Add season information\n",
    "        df.insert(0, 'SEASON', season)\n",
    "\n",
    "        # Concat with previous years stats\n",
    "        stats = pd.concat([stats, df], ignore_index=True)\n",
    "\n",
    "    return stats\n"
   ]
  },
  {
   "cell_type": "code",
   "execution_count": 7,
   "id": "1056b5f3",
   "metadata": {
    "pycharm": {
     "name": "#%%\n"
    }
   },
   "outputs": [],
   "source": [
    "df = get_data(seasons)"
   ]
  },
  {
   "cell_type": "code",
   "execution_count": null,
   "outputs": [],
   "source": [
    "# Find the columns that do not appear on the NBA official website\n",
    "indexes_to_drop = []\n",
    "i = 0\n",
    "for column in df.columns:\n",
    "    if \"RANK\" in column:\n",
    "        indexes_to_drop.append(i)\n",
    "\n",
    "    if column == \"SEASON\" or column == \"TEAM_ID\" or column == \"CFPARAMS\" or column == \"CFID\" or column == \"PACE_PER40\" or column == \"PLAYER_ID\" or column == \"NICKNAME\" or column == \"W_PCT\" or column == \"FGM\" or column == \"FGA\" or column == \"BLKA\" or column == \"PFD\" or column == \"NBA_FANTASY_PTS\" or column == \"WNBA_FANTASY_PTS\" or column == \"sp_work_OFF_RATING\" or column == \"sp_work_DEF_RATING\" or column == \"sp_work_NET_RATING\" or column == \"sp_work_PACE\":\n",
    "        indexes_to_drop.append(i)\n",
    "\n",
    "    if column.startswith(\"E_\"):\n",
    "        indexes_to_drop.append(i)\n",
    "\n",
    "    i += 1\n"
   ],
   "metadata": {
    "collapsed": false,
    "pycharm": {
     "name": "#%%\n"
    }
   }
  },
  {
   "cell_type": "code",
   "execution_count": null,
   "outputs": [],
   "source": [
    "# Drop the columns\n",
    "df.drop(df.columns[indexes_to_drop], axis=1, inplace=True)"
   ],
   "metadata": {
    "collapsed": false,
    "pycharm": {
     "name": "#%%\n"
    }
   }
  },
  {
   "cell_type": "code",
   "execution_count": null,
   "outputs": [],
   "source": [
    "# Add the new column\n",
    "df['CONFIRMED'] = 0"
   ],
   "metadata": {
    "collapsed": false,
    "pycharm": {
     "name": "#%%\n"
    }
   }
  },
  {
   "cell_type": "code",
   "execution_count": null,
   "outputs": [],
   "source": [
    "df"
   ],
   "metadata": {
    "collapsed": false,
    "pycharm": {
     "name": "#%%\n"
    }
   }
  },
  {
   "cell_type": "code",
   "execution_count": null,
   "outputs": [],
   "source": [
    "# Save dataframe in order to perform R analysis\n",
    "df.to_csv('stat1.csv', sep=\";\", index=False)"
   ],
   "metadata": {
    "collapsed": false,
    "pycharm": {
     "name": "#%%\n"
    }
   }
  },
  {
   "cell_type": "code",
   "execution_count": null,
   "outputs": [],
   "source": [
    "df2 = get_data(seasons2)"
   ],
   "metadata": {
    "collapsed": false,
    "pycharm": {
     "name": "#%%\n"
    }
   }
  },
  {
   "cell_type": "code",
   "execution_count": null,
   "outputs": [],
   "source": [
    "# Find the columns that do not appear on the NBA official website\n",
    "indexes_to_drop = []\n",
    "i = 0\n",
    "for column in df2.columns:\n",
    "    if \"RANK\" in column:\n",
    "        indexes_to_drop.append(i)\n",
    "\n",
    "    if column == \"SEASON\" or column == \"TEAM_ID\" or column == \"CFPARAMS\" or column == \"CFID\" or column == \"PACE_PER40\" or column == \"PLAYER_ID\" or column == \"NICKNAME\" or column == \"W_PCT\" or column == \"FGM\" or column == \"FGA\" or column == \"BLKA\" or column == \"PFD\" or column == \"NBA_FANTASY_PTS\" or column == \"WNBA_FANTASY_PTS\" or column == \"sp_work_OFF_RATING\" or column == \"sp_work_DEF_RATING\" or column == \"sp_work_NET_RATING\" or column == \"sp_work_PACE\" or column == \"TEAM_ABBREVIATION\" or column == \"AGE\" or column == \"GP\" or column == \"W\" or column == \"L\" or column == \"MIN\" or column == \"FG_PCT\" or column == \"FG3M\" or column == \"FG3A\" or column == \"FG3_PCT\" or column == \"FTM\" or column == \"FTA\" or column == \"FT_PCT\" or column == \"OREB\" or column == \"DREB\" or column == \"REB\" or column == \"AST\" or column == \"TOV\" or column == \"STL\" or column == \"BLK\" or column == \"PF\" or column == \"PTS\" or column == \"PLUS_MINUS\" or column == \"DD2\" or column == \"TD3\" or column == \"OFF_RATING\" or column == \"DEF_RATING\" or column == \"NET_RATING\" or column == \"AST_PCT\" or column == \"AST_TO\" or column == \"AST_RATIO\" or column == \"OREB_PCT\" or column == \"DREB_PCT\" or column == \"REB_PCT\" or column == \"TM_TOV_PCT\" or column == \"EFG_PCT\" or column == \"EFG_PC\" or column == \"USG_PCT\" or column == \"PACE\" or column == \"PIE\" or column == \"POSS\" or column == \"FGM_PG\" or column == \"FGA_PG\" or column == 'TS_PCT':\n",
    "        indexes_to_drop.append(i)\n",
    "\n",
    "    if column.startswith(\"E_\"):\n",
    "        indexes_to_drop.append(i)\n",
    "\n",
    "    i += 1\n"
   ],
   "metadata": {
    "collapsed": false,
    "pycharm": {
     "name": "#%%\n"
    }
   }
  },
  {
   "cell_type": "code",
   "execution_count": null,
   "outputs": [],
   "source": [
    "# Drop the columns\n",
    "df2.drop(df2.columns[indexes_to_drop], axis=1, inplace=True)"
   ],
   "metadata": {
    "collapsed": false,
    "pycharm": {
     "name": "#%%\n"
    }
   }
  },
  {
   "cell_type": "code",
   "execution_count": null,
   "outputs": [],
   "source": [
    "# Add the new column\n",
    "df2['CONFIRMED'] = 1"
   ],
   "metadata": {
    "collapsed": false,
    "pycharm": {
     "name": "#%%\n"
    }
   }
  },
  {
   "cell_type": "code",
   "execution_count": null,
   "outputs": [],
   "source": [
    "df2"
   ],
   "metadata": {
    "collapsed": false,
    "pycharm": {
     "name": "#%%\n"
    }
   }
  },
  {
   "cell_type": "code",
   "execution_count": null,
   "outputs": [],
   "source": [
    "# Save dataframe in order to perform R analysis\n",
    "df2.to_csv('stat2.csv', sep=\";\", index=False)"
   ],
   "metadata": {
    "collapsed": false,
    "pycharm": {
     "name": "#%%\n"
    }
   }
  },
  {
   "cell_type": "code",
   "execution_count": null,
   "outputs": [],
   "source": [
    "tabella = pd.merge(df, df2, how = 'left', on='PLAYER_NAME')"
   ],
   "metadata": {
    "collapsed": false,
    "pycharm": {
     "name": "#%%\n"
    }
   }
  },
  {
   "cell_type": "code",
   "execution_count": null,
   "outputs": [],
   "source": [
    "tabella['CONFIRMED_y'] = tabella['CONFIRMED_y'].fillna(0)\n",
    "tabella.drop('CONFIRMED_x', axis=1, inplace=True)\n",
    "tabella.rename(columns = {'CONFIRMED_y':'CONFIRMED'}, inplace = True)"
   ],
   "metadata": {
    "collapsed": false,
    "pycharm": {
     "name": "#%%\n"
    }
   }
  },
  {
   "cell_type": "code",
   "execution_count": null,
   "outputs": [],
   "source": [
    "tabella"
   ],
   "metadata": {
    "collapsed": false,
    "pycharm": {
     "name": "#%%\n"
    }
   }
  },
  {
   "cell_type": "code",
   "execution_count": 29,
   "id": "a6a1bd36",
   "metadata": {
    "pycharm": {
     "name": "#%%\n"
    }
   },
   "outputs": [],
   "source": [
    "tabella = pd.merge(df, df2, how = 'left', on='PLAYER_NAME')"
   ]
  },
  {
   "cell_type": "code",
   "execution_count": 30,
   "id": "f3680aef",
   "metadata": {
    "pycharm": {
     "name": "#%%\n"
    }
   },
   "outputs": [],
   "source": [
    "tabella['CONFIRMED_y'] = tabella['CONFIRMED_y'].fillna(0)\n",
    "tabella.drop('CONFIRMED_x', axis=1, inplace=True)\n",
    "tabella.rename(columns = {'CONFIRMED_y':'CONFIRMED'}, inplace = True)"
   ]
  },
  {
   "cell_type": "code",
   "execution_count": 31,
   "id": "4cf665c1",
   "metadata": {
    "pycharm": {
     "name": "#%%\n"
    }
   },
   "outputs": [
    {
     "data": {
      "text/html": [
       "<div>\n",
       "<style scoped>\n",
       "    .dataframe tbody tr th:only-of-type {\n",
       "        vertical-align: middle;\n",
       "    }\n",
       "\n",
       "    .dataframe tbody tr th {\n",
       "        vertical-align: top;\n",
       "    }\n",
       "\n",
       "    .dataframe thead th {\n",
       "        text-align: right;\n",
       "    }\n",
       "</style>\n",
       "<table border=\"1\" class=\"dataframe\">\n",
       "  <thead>\n",
       "    <tr style=\"text-align: right;\">\n",
       "      <th></th>\n",
       "      <th>PLAYER_NAME</th>\n",
       "      <th>TEAM_ABBREVIATION</th>\n",
       "      <th>AGE</th>\n",
       "      <th>GP</th>\n",
       "      <th>W</th>\n",
       "      <th>L</th>\n",
       "      <th>MIN</th>\n",
       "      <th>FG_PCT</th>\n",
       "      <th>FG3M</th>\n",
       "      <th>FG3A</th>\n",
       "      <th>...</th>\n",
       "      <th>TM_TOV_PCT</th>\n",
       "      <th>EFG_PCT</th>\n",
       "      <th>TS_PCT</th>\n",
       "      <th>USG_PCT</th>\n",
       "      <th>PACE</th>\n",
       "      <th>PIE</th>\n",
       "      <th>POSS</th>\n",
       "      <th>FGM_PG</th>\n",
       "      <th>FGA_PG</th>\n",
       "      <th>CONFRIMED</th>\n",
       "    </tr>\n",
       "  </thead>\n",
       "  <tbody>\n",
       "    <tr>\n",
       "      <th>0</th>\n",
       "      <td>Aaron Gordon</td>\n",
       "      <td>DEN</td>\n",
       "      <td>26.0</td>\n",
       "      <td>75</td>\n",
       "      <td>46</td>\n",
       "      <td>29</td>\n",
       "      <td>31.7</td>\n",
       "      <td>0.520</td>\n",
       "      <td>1.2</td>\n",
       "      <td>3.5</td>\n",
       "      <td>...</td>\n",
       "      <td>10.6</td>\n",
       "      <td>0.573</td>\n",
       "      <td>0.602</td>\n",
       "      <td>0.194</td>\n",
       "      <td>99.00</td>\n",
       "      <td>0.096</td>\n",
       "      <td>4908</td>\n",
       "      <td>5.8</td>\n",
       "      <td>11.1</td>\n",
       "      <td>1.0</td>\n",
       "    </tr>\n",
       "    <tr>\n",
       "      <th>1</th>\n",
       "      <td>Aaron Henry</td>\n",
       "      <td>PHI</td>\n",
       "      <td>22.0</td>\n",
       "      <td>6</td>\n",
       "      <td>6</td>\n",
       "      <td>0</td>\n",
       "      <td>2.8</td>\n",
       "      <td>0.200</td>\n",
       "      <td>0.0</td>\n",
       "      <td>0.2</td>\n",
       "      <td>...</td>\n",
       "      <td>28.6</td>\n",
       "      <td>0.200</td>\n",
       "      <td>0.200</td>\n",
       "      <td>0.149</td>\n",
       "      <td>105.99</td>\n",
       "      <td>-0.079</td>\n",
       "      <td>38</td>\n",
       "      <td>0.2</td>\n",
       "      <td>0.8</td>\n",
       "      <td>0.0</td>\n",
       "    </tr>\n",
       "    <tr>\n",
       "      <th>2</th>\n",
       "      <td>Aaron Holiday</td>\n",
       "      <td>PHX</td>\n",
       "      <td>25.0</td>\n",
       "      <td>63</td>\n",
       "      <td>34</td>\n",
       "      <td>29</td>\n",
       "      <td>16.2</td>\n",
       "      <td>0.447</td>\n",
       "      <td>0.6</td>\n",
       "      <td>1.6</td>\n",
       "      <td>...</td>\n",
       "      <td>11.4</td>\n",
       "      <td>0.504</td>\n",
       "      <td>0.544</td>\n",
       "      <td>0.182</td>\n",
       "      <td>99.57</td>\n",
       "      <td>0.088</td>\n",
       "      <td>2113</td>\n",
       "      <td>2.4</td>\n",
       "      <td>5.4</td>\n",
       "      <td>1.0</td>\n",
       "    </tr>\n",
       "    <tr>\n",
       "      <th>3</th>\n",
       "      <td>Aaron Nesmith</td>\n",
       "      <td>BOS</td>\n",
       "      <td>22.0</td>\n",
       "      <td>52</td>\n",
       "      <td>32</td>\n",
       "      <td>20</td>\n",
       "      <td>11.0</td>\n",
       "      <td>0.396</td>\n",
       "      <td>0.6</td>\n",
       "      <td>2.2</td>\n",
       "      <td>...</td>\n",
       "      <td>12.7</td>\n",
       "      <td>0.481</td>\n",
       "      <td>0.507</td>\n",
       "      <td>0.164</td>\n",
       "      <td>100.58</td>\n",
       "      <td>0.048</td>\n",
       "      <td>1196</td>\n",
       "      <td>1.4</td>\n",
       "      <td>3.5</td>\n",
       "      <td>1.0</td>\n",
       "    </tr>\n",
       "    <tr>\n",
       "      <th>4</th>\n",
       "      <td>Aaron Wiggins</td>\n",
       "      <td>OKC</td>\n",
       "      <td>23.0</td>\n",
       "      <td>50</td>\n",
       "      <td>13</td>\n",
       "      <td>37</td>\n",
       "      <td>24.2</td>\n",
       "      <td>0.463</td>\n",
       "      <td>0.8</td>\n",
       "      <td>2.8</td>\n",
       "      <td>...</td>\n",
       "      <td>10.9</td>\n",
       "      <td>0.525</td>\n",
       "      <td>0.556</td>\n",
       "      <td>0.149</td>\n",
       "      <td>101.60</td>\n",
       "      <td>0.062</td>\n",
       "      <td>2546</td>\n",
       "      <td>3.1</td>\n",
       "      <td>6.7</td>\n",
       "      <td>1.0</td>\n",
       "    </tr>\n",
       "    <tr>\n",
       "      <th>...</th>\n",
       "      <td>...</td>\n",
       "      <td>...</td>\n",
       "      <td>...</td>\n",
       "      <td>...</td>\n",
       "      <td>...</td>\n",
       "      <td>...</td>\n",
       "      <td>...</td>\n",
       "      <td>...</td>\n",
       "      <td>...</td>\n",
       "      <td>...</td>\n",
       "      <td>...</td>\n",
       "      <td>...</td>\n",
       "      <td>...</td>\n",
       "      <td>...</td>\n",
       "      <td>...</td>\n",
       "      <td>...</td>\n",
       "      <td>...</td>\n",
       "      <td>...</td>\n",
       "      <td>...</td>\n",
       "      <td>...</td>\n",
       "      <td>...</td>\n",
       "    </tr>\n",
       "    <tr>\n",
       "      <th>600</th>\n",
       "      <td>Zach LaVine</td>\n",
       "      <td>CHI</td>\n",
       "      <td>27.0</td>\n",
       "      <td>67</td>\n",
       "      <td>37</td>\n",
       "      <td>30</td>\n",
       "      <td>34.7</td>\n",
       "      <td>0.476</td>\n",
       "      <td>2.8</td>\n",
       "      <td>7.1</td>\n",
       "      <td>...</td>\n",
       "      <td>9.4</td>\n",
       "      <td>0.554</td>\n",
       "      <td>0.605</td>\n",
       "      <td>0.284</td>\n",
       "      <td>99.36</td>\n",
       "      <td>0.129</td>\n",
       "      <td>4827</td>\n",
       "      <td>8.4</td>\n",
       "      <td>17.7</td>\n",
       "      <td>1.0</td>\n",
       "    </tr>\n",
       "    <tr>\n",
       "      <th>601</th>\n",
       "      <td>Zavier Simpson</td>\n",
       "      <td>OKC</td>\n",
       "      <td>25.0</td>\n",
       "      <td>4</td>\n",
       "      <td>1</td>\n",
       "      <td>3</td>\n",
       "      <td>43.5</td>\n",
       "      <td>0.365</td>\n",
       "      <td>0.3</td>\n",
       "      <td>2.0</td>\n",
       "      <td>...</td>\n",
       "      <td>10.6</td>\n",
       "      <td>0.375</td>\n",
       "      <td>0.406</td>\n",
       "      <td>0.158</td>\n",
       "      <td>97.75</td>\n",
       "      <td>0.059</td>\n",
       "      <td>354</td>\n",
       "      <td>4.8</td>\n",
       "      <td>13.0</td>\n",
       "      <td>0.0</td>\n",
       "    </tr>\n",
       "    <tr>\n",
       "      <th>602</th>\n",
       "      <td>Zeke Nnaji</td>\n",
       "      <td>DEN</td>\n",
       "      <td>21.0</td>\n",
       "      <td>41</td>\n",
       "      <td>24</td>\n",
       "      <td>17</td>\n",
       "      <td>17.0</td>\n",
       "      <td>0.516</td>\n",
       "      <td>0.9</td>\n",
       "      <td>2.0</td>\n",
       "      <td>...</td>\n",
       "      <td>9.0</td>\n",
       "      <td>0.616</td>\n",
       "      <td>0.629</td>\n",
       "      <td>0.146</td>\n",
       "      <td>99.25</td>\n",
       "      <td>0.078</td>\n",
       "      <td>1443</td>\n",
       "      <td>2.3</td>\n",
       "      <td>4.5</td>\n",
       "      <td>1.0</td>\n",
       "    </tr>\n",
       "    <tr>\n",
       "      <th>603</th>\n",
       "      <td>Ziaire Williams</td>\n",
       "      <td>MEM</td>\n",
       "      <td>20.0</td>\n",
       "      <td>62</td>\n",
       "      <td>41</td>\n",
       "      <td>21</td>\n",
       "      <td>21.7</td>\n",
       "      <td>0.450</td>\n",
       "      <td>1.2</td>\n",
       "      <td>3.9</td>\n",
       "      <td>...</td>\n",
       "      <td>7.4</td>\n",
       "      <td>0.540</td>\n",
       "      <td>0.559</td>\n",
       "      <td>0.144</td>\n",
       "      <td>103.22</td>\n",
       "      <td>0.055</td>\n",
       "      <td>2896</td>\n",
       "      <td>3.1</td>\n",
       "      <td>6.8</td>\n",
       "      <td>0.0</td>\n",
       "    </tr>\n",
       "    <tr>\n",
       "      <th>604</th>\n",
       "      <td>Zylan Cheatham</td>\n",
       "      <td>UTA</td>\n",
       "      <td>26.0</td>\n",
       "      <td>1</td>\n",
       "      <td>0</td>\n",
       "      <td>1</td>\n",
       "      <td>5.2</td>\n",
       "      <td>0.000</td>\n",
       "      <td>0.0</td>\n",
       "      <td>2.0</td>\n",
       "      <td>...</td>\n",
       "      <td>0.0</td>\n",
       "      <td>0.000</td>\n",
       "      <td>0.000</td>\n",
       "      <td>0.250</td>\n",
       "      <td>106.50</td>\n",
       "      <td>-0.167</td>\n",
       "      <td>11</td>\n",
       "      <td>0.0</td>\n",
       "      <td>3.0</td>\n",
       "      <td>0.0</td>\n",
       "    </tr>\n",
       "  </tbody>\n",
       "</table>\n",
       "<p>605 rows × 45 columns</p>\n",
       "</div>"
      ],
      "text/plain": [
       "         PLAYER_NAME TEAM_ABBREVIATION   AGE  GP   W   L   MIN  FG_PCT  FG3M  \\\n",
       "0       Aaron Gordon               DEN  26.0  75  46  29  31.7   0.520   1.2   \n",
       "1        Aaron Henry               PHI  22.0   6   6   0   2.8   0.200   0.0   \n",
       "2      Aaron Holiday               PHX  25.0  63  34  29  16.2   0.447   0.6   \n",
       "3      Aaron Nesmith               BOS  22.0  52  32  20  11.0   0.396   0.6   \n",
       "4      Aaron Wiggins               OKC  23.0  50  13  37  24.2   0.463   0.8   \n",
       "..               ...               ...   ...  ..  ..  ..   ...     ...   ...   \n",
       "600      Zach LaVine               CHI  27.0  67  37  30  34.7   0.476   2.8   \n",
       "601   Zavier Simpson               OKC  25.0   4   1   3  43.5   0.365   0.3   \n",
       "602       Zeke Nnaji               DEN  21.0  41  24  17  17.0   0.516   0.9   \n",
       "603  Ziaire Williams               MEM  20.0  62  41  21  21.7   0.450   1.2   \n",
       "604   Zylan Cheatham               UTA  26.0   1   0   1   5.2   0.000   0.0   \n",
       "\n",
       "     FG3A  ...  TM_TOV_PCT  EFG_PCT  TS_PCT  USG_PCT    PACE    PIE  POSS  \\\n",
       "0     3.5  ...        10.6    0.573   0.602    0.194   99.00  0.096  4908   \n",
       "1     0.2  ...        28.6    0.200   0.200    0.149  105.99 -0.079    38   \n",
       "2     1.6  ...        11.4    0.504   0.544    0.182   99.57  0.088  2113   \n",
       "3     2.2  ...        12.7    0.481   0.507    0.164  100.58  0.048  1196   \n",
       "4     2.8  ...        10.9    0.525   0.556    0.149  101.60  0.062  2546   \n",
       "..    ...  ...         ...      ...     ...      ...     ...    ...   ...   \n",
       "600   7.1  ...         9.4    0.554   0.605    0.284   99.36  0.129  4827   \n",
       "601   2.0  ...        10.6    0.375   0.406    0.158   97.75  0.059   354   \n",
       "602   2.0  ...         9.0    0.616   0.629    0.146   99.25  0.078  1443   \n",
       "603   3.9  ...         7.4    0.540   0.559    0.144  103.22  0.055  2896   \n",
       "604   2.0  ...         0.0    0.000   0.000    0.250  106.50 -0.167    11   \n",
       "\n",
       "     FGM_PG  FGA_PG  CONFRIMED  \n",
       "0       5.8    11.1        1.0  \n",
       "1       0.2     0.8        0.0  \n",
       "2       2.4     5.4        1.0  \n",
       "3       1.4     3.5        1.0  \n",
       "4       3.1     6.7        1.0  \n",
       "..      ...     ...        ...  \n",
       "600     8.4    17.7        1.0  \n",
       "601     4.8    13.0        0.0  \n",
       "602     2.3     4.5        1.0  \n",
       "603     3.1     6.8        0.0  \n",
       "604     0.0     3.0        0.0  \n",
       "\n",
       "[605 rows x 45 columns]"
      ]
     },
     "execution_count": 31,
     "metadata": {},
     "output_type": "execute_result"
    }
   ],
   "source": [
    "tabella"
   ]
  },
  {
   "cell_type": "code",
   "execution_count": 32,
   "id": "1fcfa6c1",
   "metadata": {
    "pycharm": {
     "name": "#%%\n"
    },
    "scrolled": true
   },
   "outputs": [],
   "source": [
    "# Save dataframe in order to perform R analysis\n",
    "tabella.to_csv('tabella.csv', sep=\";\", index=False)"
   ]
  }
 ],
 "metadata": {
  "kernelspec": {
   "display_name": "Python 3 (ipykernel)",
   "language": "python",
   "name": "python3"
  },
  "language_info": {
   "codemirror_mode": {
    "name": "ipython",
    "version": 3
   },
   "file_extension": ".py",
   "mimetype": "text/x-python",
   "name": "python",
   "nbconvert_exporter": "python",
   "pygments_lexer": "ipython3",
   "version": "3.9.7"
  }
 },
 "nbformat": 4,
 "nbformat_minor": 5
}